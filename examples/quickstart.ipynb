{
  "cells": [
    {
      "cell_type": "markdown",
      "metadata": {},
      "source": [
        "# VAMOS Precision Oncology - Quickstart\n",
        "This notebook demonstrates how to run the pipeline using the Python API.\n"
      ]
    },
    {
      "cell_type": "code",
      "metadata": {},
      "outputs": [],
      "execution_count": null,
      "source": [
        "from vamos_precision.mapping import run_mapping\n",
        "from vamos_precision.clustering import run_clustering\n",
        "from vamos_precision.gsea import prep_gsea_inputs, run_gsea_r_wrapper\n",
        "from vamos_precision.ml import run_ml\n",
        "run_mapping()\n",
        "run_clustering()\n",
        "prep_gsea_inputs()\n",
        "# run_gsea_r_wrapper()  # requires R installed\n",
        "run_ml()\n"
      ]
    }
  ],
  "metadata": {
    "kernelspec": {
      "display_name": "Python 3",
      "language": "python",
      "name": "python3"
    }
  },
  "nbformat": 4,
  "nbformat_minor": 5
}